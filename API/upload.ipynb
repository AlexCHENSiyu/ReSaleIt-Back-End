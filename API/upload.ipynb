{
 "cells": [
  {
   "cell_type": "code",
   "execution_count": 1,
   "metadata": {},
   "outputs": [],
   "source": [
    "from flask import Flask\n",
    "import base64\n",
    "import pymongo\n",
    "from pymongo.database import Database \n",
    "import matplotlib.pyplot as plt\n",
    "from io import BytesIO\n",
    "import os\n",
    "from PIL import Image\n",
    "import requests\n",
    "import json"
   ]
  },
  {
   "cell_type": "markdown",
   "metadata": {},
   "source": [
    "<font size=5> Setup Database Connection</font>"
   ]
  },
  {
   "cell_type": "code",
   "execution_count": 2,
   "metadata": {},
   "outputs": [
    {
     "name": "stdout",
     "output_type": "stream",
     "text": [
      "数据库当前的databases:  ['admin', 'chen_db', 'config', 'local']\n",
      "获取/创建库： chen_db\n"
     ]
    }
   ],
   "source": [
    "def mongodb_init():\n",
    "    # connect to mongodb\n",
    "    mongo = pymongo.MongoClient(host='18.162.214.19', port=27017, username=\"root\", password=\"1647#4hkust\",\n",
    "                                authSource='admin')\n",
    "    print('数据库当前的databases: ', mongo.list_database_names())\n",
    "    return mongo\n",
    "\n",
    "def get_db(mongo, db_name):\n",
    "    db = Database(name=db_name, client=mongo)\n",
    "    print('获取/创建库：', db.name)\n",
    "    return db\n",
    "\n",
    "# API below\n",
    "app = Flask(__name__)\n",
    "mongo = mongodb_init()\n",
    "db = get_db(mongo, 'chen_db')"
   ]
  },
  {
   "cell_type": "markdown",
   "metadata": {},
   "source": [
    "<font size=5> Helper Functions </font>"
   ]
  },
  {
   "cell_type": "code",
   "execution_count": 3,
   "metadata": {},
   "outputs": [],
   "source": [
    "def compress_image(infile, outfile='', mb=30, step=15, quality=60, printable=True):\n",
    "    \"\"\"\n",
    "    不改变图片尺寸压缩到指定大小\n",
    "    :param infile: 压缩源文件\n",
    "    :param outfile: 压缩文件保存地址\n",
    "    :param mb: 压缩比率\n",
    "    :param step: 每次调整的压缩比率\n",
    "    :param quality: 初始压缩比率\n",
    "    :param print: 是否打印\n",
    "    :return: 压缩文件地址，压缩文件大小\n",
    "    \"\"\"\n",
    "    o_size = os.path.getsize(infile) / 1024\n",
    "    if printable: print(f\"original size: {o_size:.2f} KB\")\n",
    "    if o_size <= 5:\n",
    "        return infile\n",
    "    outfile = get_outfile(infile, outfile)\n",
    "    \n",
    "    while o_size > o_size * mb/100:\n",
    "        im = Image.open(infile)\n",
    "        im.save(outfile, quality=quality)\n",
    "        if quality - step < 0:\n",
    "            break\n",
    "        quality -= step\n",
    "        o_size = os.path.getsize(outfile) / 1024\n",
    "        \n",
    "    return outfile, o_size\n",
    "\n",
    "\n",
    "def get_outfile(infile, outfile):\n",
    "    if outfile:\n",
    "        return outfile\n",
    "    dir, suffix = os.path.splitext(infile)\n",
    "    outfile = '{}-out{}'.format(dir, suffix)\n",
    "    return outfile\n",
    "\n",
    "\n",
    "def Image_Encode_Compress(image_URL, printable=True):\n",
    "    # 压缩图片\n",
    "    compressed_image, compressed_size = compress_image(infile=image_URL, printable=printable)\n",
    "    # 读取本地图片文件\n",
    "    if printable: print(f\"Size after compress: {compressed_size:.2f} KB\")\n",
    "    \n",
    "    with open(compressed_image, 'rb') as input:\n",
    "        image_data = input.read()  # 图片的二进制数据\n",
    "\n",
    "    # 将二进制图片编码为 base64 格式\n",
    "    base64_data_bytes = base64.b64encode(image_data)  # 图片的 bytes 类型\n",
    "    base64_data_str = base64_data_bytes.decode()  # 图片的字符串类型\n",
    "    \n",
    "    # 删除压缩的图片\n",
    "    os.remove(compressed_image)\n",
    "    return base64_data_str\n",
    "\n",
    "\n",
    "def Image_Encode(image_URL):\n",
    "    with open(image_URL, 'rb') as input:\n",
    "        image_data = input.read()  # 图片的二进制数据\n",
    "\n",
    "    # 将二进制图片编码为 base64 格式\n",
    "    base64_data_bytes = base64.b64encode(image_data)  # 图片的 bytes 类型\n",
    "    base64_data_str = base64_data_bytes.decode()  # 图片的字符串类型\n",
    "    return base64_data_str\n",
    "\n",
    "\n",
    "def Image_show(image_URL):\n",
    "    with open(image_URL, 'rb') as input:\n",
    "        image_data = input.read()  # 图片的二进制数据\n",
    "    # 展示图片\n",
    "    img_data = plt.imread(BytesIO(image_data), format=\"JPG\")\n",
    "    import cv2\n",
    "    img_cv2 = cv2.cvtColor(img_data, cv2.COLOR_RGB2BGR)\n",
    "    cv2.imshow('Image', img_cv2)\n",
    "    cv2.waitKey(0)\n",
    "    cv2.destroyAllWindows()\n",
    "    \n",
    "\n",
    "def upload(Title, Text, Price, Fields, Images):\n",
    "    url = 'http://localhost:8080/new-post'\n",
    "    # url = \"http://18.162.214.19/chen/new-post\"\n",
    "\n",
    "    body = {\n",
    "                'PostOwner': '1030920919@qq.com',\n",
    "                'Title': Title,\n",
    "                'Text': Text,\n",
    "                'Auction': False,\n",
    "                'LostFound': False,\n",
    "                'Price': Price,\n",
    "                'Fields': Fields,\n",
    "                'Images': Images\n",
    "            }\n",
    "    r = requests.post(url, json=body)\n",
    "    return r.json()[\"Success\"]\n",
    "\n",
    "\n",
    "def upload_folder(folder_path, printable=True):\n",
    "    Images = []\n",
    "     # 加载所有图片\n",
    "    for filename in os.listdir(folder_path):\n",
    "        if filename.lower().endswith( ('.png', '.jpg', '.jpeg') ):\n",
    "            image_path = os.path.join(folder_path, filename)\n",
    "            # 是否压缩\n",
    "            # Images.append( Image_Encode_Compress(image_path) )\n",
    "            Images.append( Image_Encode_Compress(image_path, printable=printable) )\n",
    "        \n",
    "    # 加载所有文件列\n",
    "    data_path = os.path.join(folder_path,  \"data.json\")\n",
    "    with open(data_path, newline='') as json_file:\n",
    "        json_data = json.load(json_file)\n",
    "        \n",
    "    Title = json_data[\"Title\"]\n",
    "    Text = json_data[\"Text\"]\n",
    "    Price = json_data[\"Price\"]\n",
    "    Fields = json_data[\"Fields\"]\n",
    "    \n",
    "    success = upload(Title, Text, Price, Fields, Images)\n",
    "    return success"
   ]
  },
  {
   "cell_type": "markdown",
   "metadata": {},
   "source": [
    "<font size=5> Download all Posts from Database </font>"
   ]
  },
  {
   "cell_type": "code",
   "execution_count": 16,
   "metadata": {},
   "outputs": [],
   "source": [
    "import io\n",
    "\n",
    "# 保存所有的post到本地\n",
    "Posts = db.Posts.find()\n",
    "if Posts:\n",
    "    folder_Count = 0\n",
    "    for Post in Posts:\n",
    "        folder_Count += 1\n",
    "        \n",
    "        # 创建文件夹\n",
    "        folder_path = \"../image/\"+ str(folder_Count)\n",
    "        if not os.path.exists(folder_path):\n",
    "            os.makedirs(folder_path)\n",
    "            \n",
    "        # 获取图片和文字\n",
    "        data = {\n",
    "            \"PID\": str(Post['_id']), \n",
    "            \"Title\": Post.get(\"Title\").strip(\"\\n\"),\n",
    "            \"Text\": Post.get(\"Text\").strip(\"\\n\"),\n",
    "            \"Price\": str(Post.get(\"Price\")),\n",
    "            \"Fields\": Post.get(\"Fields\")\n",
    "            }\n",
    "        Images_base64 = Post.get(\"Images\")\n",
    "        # 存图片\n",
    "        if Images_base64: # not None\n",
    "            image_Count = 0\n",
    "            # 遍历所有图片\n",
    "            for Image_base64 in Images_base64:\n",
    "                image_Count += 1\n",
    "                # 转换图片\n",
    "                decoded_image_data = base64.b64decode(Image_base64)\n",
    "                image = Image.open(io.BytesIO(decoded_image_data))\n",
    "\n",
    "                image_path = os.path.join(folder_path, str(image_Count) + \".png\")\n",
    "                image.save(image_path)\n",
    "                \n",
    "        # 存data\n",
    "        data_path = os.path.join(folder_path,  \"data.json\")\n",
    "        with open(data_path, 'w', newline='') as json_file:\n",
    "            json.dump(data, json_file, indent=4)"
   ]
  },
  {
   "cell_type": "markdown",
   "metadata": {},
   "source": [
    "<font size=5> Upload all Posts to Database </font>"
   ]
  },
  {
   "cell_type": "code",
   "execution_count": 18,
   "metadata": {},
   "outputs": [],
   "source": [
    "# Run above folder first to get all Posts from database. or unzip image.zip as the following structure.\n",
    "\n",
    "# Server/API/upload.ipynb\n",
    "# Server/image/1/1.png\n",
    "# Server/image/1/data.json\n",
    "\n",
    "folder_Count = 1\n",
    "success_Count = 0 \n",
    "folder_path = \"../image/\"+ str(folder_Count)\n",
    "# 遍历所有文件夹\n",
    "while os.path.exists(folder_path):\n",
    "    # 上传文件夹内的对应文件\n",
    "    success = upload_folder(folder_path, printable=False)\n",
    "    if success: success_Count += 1\n",
    "    \n",
    "    # 更新folder path\n",
    "    folder_Count += 1\n",
    "    folder_path = \"../image/\"+ str(folder_Count)"
   ]
  },
  {
   "cell_type": "code",
   "execution_count": null,
   "metadata": {},
   "outputs": [
    {
     "name": "stdout",
     "output_type": "stream",
     "text": [
      "success:18/18\n"
     ]
    }
   ],
   "source": [
    "print(f\"success:{success_Count}/{folder_Count-1}\")"
   ]
  },
  {
   "cell_type": "markdown",
   "metadata": {},
   "source": [
    "<font size=5> Upload A Single New Post </font>"
   ]
  },
  {
   "cell_type": "code",
   "execution_count": 39,
   "metadata": {},
   "outputs": [
    {
     "name": "stdout",
     "output_type": "stream",
     "text": [
      "original size: 28.61 KB\n",
      "Size after compress: 10.47 KB\n",
      "original size: 25.89 KB\n",
      "Size after compress: 9.94 KB\n",
      "original size: 27.57 KB\n",
      "Size after compress: 10.45 KB\n"
     ]
    }
   ],
   "source": [
    "# set the image directories\n",
    "imageUrl_1 = '../image/' + '1.webp'\n",
    "imageUrl_2 = '../image/' + '2.webp'\n",
    "imageUrl_3 = '../image/' + '3.webp'\n",
    "imageUrl_4 = '../image/' + '4.webp'\n",
    "\n",
    "Images = []\n",
    "Images.append( Image_Encode_Compress(imageUrl_1) )\n",
    "Images.append( Image_Encode_Compress(imageUrl_2) )\n",
    "Images.append( Image_Encode_Compress(imageUrl_3) )\n",
    "Images.append( Image_Encode_Compress(imageUrl_4) )\n",
    "\n",
    "# set parameters\n",
    "Title = \"Bauer Girls Helmet.\"\n",
    "\n",
    "Text = \\\n",
    "\"\"\"\n",
    "Hello,\n",
    "I'm selling a good condition helmet, size is 6.\n",
    "\"\"\"\n",
    "\n",
    "Price = \"10\"\n",
    "Fields = []\n",
    "\n",
    "success = upload(Title, Text, Price, Fields, Images)\n",
    "print(success)"
   ]
  },
  {
   "cell_type": "markdown",
   "metadata": {},
   "source": [
    "<font size=5> Upload A Single Folder </font>"
   ]
  },
  {
   "cell_type": "code",
   "execution_count": 4,
   "metadata": {},
   "outputs": [
    {
     "name": "stdout",
     "output_type": "stream",
     "text": [
      "original size: 354.92 KB\n",
      "Size after compress: 354.92 KB\n",
      "original size: 231.59 KB\n",
      "Size after compress: 231.59 KB\n",
      "True\n"
     ]
    }
   ],
   "source": [
    "folder_path = '../image/' + '11'\n",
    "success = upload_folder(folder_path, printable=True)\n",
    "print(success)"
   ]
  }
 ],
 "metadata": {
  "kernelspec": {
   "display_name": "ECE_651",
   "language": "python",
   "name": "python3"
  },
  "language_info": {
   "codemirror_mode": {
    "name": "ipython",
    "version": 3
   },
   "file_extension": ".py",
   "mimetype": "text/x-python",
   "name": "python",
   "nbconvert_exporter": "python",
   "pygments_lexer": "ipython3",
   "version": "3.11.3"
  }
 },
 "nbformat": 4,
 "nbformat_minor": 2
}
