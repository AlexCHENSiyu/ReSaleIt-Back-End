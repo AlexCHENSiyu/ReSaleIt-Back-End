{
 "cells": [
  {
   "cell_type": "code",
   "execution_count": 8,
   "metadata": {},
   "outputs": [],
   "source": [
    "from flask import Flask, request, Blueprint\n",
    "import pymongo\n",
    "import numpy as np\n",
    "import json\n",
    "from bson import ObjectId\n",
    "import base64\n",
    "from pymongo.database import Database \n",
    "from datetime import date, datetime\n",
    "from datetime import datetime\n",
    "from pyisemail import is_email\n",
    "import smtplib\n",
    "from email.mime.text import MIMEText\n",
    "from email.utils import formataddr\n",
    "from random import randint\n",
    "from operator import itemgetter\n",
    "from collections import Counter\n",
    "import matplotlib.pyplot as plt\n",
    "from io import BytesIO"
   ]
  },
  {
   "cell_type": "code",
   "execution_count": 9,
   "metadata": {},
   "outputs": [
    {
     "name": "stdout",
     "output_type": "stream",
     "text": [
      "数据库当前的databases:  ['admin', 'chen_db', 'config', 'local']\n",
      "获取/创建库： chen_db\n"
     ]
    }
   ],
   "source": [
    "def mongodb_init():\n",
    "    # connect to mongodb\n",
    "    mongo = pymongo.MongoClient(host='18.162.214.19', port=27017, username=\"root\", password=\"1647#4hkust\",\n",
    "                                authSource='admin')\n",
    "    print('数据库当前的databases: ', mongo.list_database_names())\n",
    "    return mongo\n",
    "\n",
    "\n",
    "def get_db(mongo, db_name):\n",
    "    db = Database(name=db_name, client=mongo)\n",
    "    print('获取/创建库：', db.name)\n",
    "    return db\n",
    "\n",
    "\n",
    "def get_time_attribute(type):\n",
    "    # generate current time\n",
    "    now_time = datetime.now().strftime('%Y-%m-%d %H:%M:%S')\n",
    "    if type == 'update':\n",
    "        return {'UpdateTime': now_time}\n",
    "    elif type == 'create':\n",
    "        return {'CreateTime': now_time, 'UpdateTime': now_time, 'CodeTime': now_time}\n",
    "    elif type == 'create withour code':\n",
    "        return {'CreateTime': now_time, 'UpdateTime': now_time}\n",
    "    elif type == 'only create':\n",
    "        return {'CreateTime': now_time}\n",
    "    elif type == 'code':\n",
    "        return {'UpdateTime': now_time, 'CodeTime': now_time}\n",
    "\n",
    "    print(\"Please input type = 'update', 'create', 'create withour code', 'only create', 'code' \")\n",
    "    return 0\n",
    "\n",
    "\n",
    "# API below\n",
    "app = Flask(__name__)\n",
    "mongo = mongodb_init()\n",
    "db = get_db(mongo, 'chen_db')"
   ]
  },
  {
   "cell_type": "code",
   "execution_count": 10,
   "metadata": {},
   "outputs": [],
   "source": [
    "def Image_Encode(image_URL):\n",
    "    # 读取本地图片文件\n",
    "    with open(image_URL, 'rb') as input:\n",
    "        image_data = input.read()  # 图片的二进制数据\n",
    "\n",
    "    # 将二进制图片编码为 base64 格式\n",
    "    base64_data_bytes = base64.b64encode(image_data)  # 图片的 bytes 类型\n",
    "    base64_data_str = base64_data_bytes.decode()  # 图片的字符串类型\\\n",
    "    return base64_data_str"
   ]
  },
  {
   "cell_type": "code",
   "execution_count": 11,
   "metadata": {},
   "outputs": [],
   "source": [
    "def Image_show(image_URL):\n",
    "    with open(image_URL, 'rb') as input:\n",
    "        image_data = input.read()  # 图片的二进制数据\n",
    "    # 展示图片\n",
    "    img_data = plt.imread(BytesIO(image_data), format=\"JPG\")\n",
    "    import cv2\n",
    "    img_cv2 = cv2.cvtColor(img_data, cv2.COLOR_RGB2BGR)\n",
    "    cv2.imshow('Image', img_cv2)\n",
    "    cv2.waitKey(0)\n",
    "    cv2.destroyAllWindows()"
   ]
  },
  {
   "cell_type": "code",
   "execution_count": 12,
   "metadata": {},
   "outputs": [],
   "source": [
    "imageUrl_1 = '../image/' + '1.webp'\n",
    "imageUrl_2 = '../image/' + '2.webp'\n",
    "imageUrl_3 = '../image/' + '3.webp'\n",
    "imageUrl_4 = '../image/' + '4.webp'\n",
    "Images = []\n",
    "Images.append( Image_Encode(imageUrl_1) )\n",
    "Images.append( Image_Encode(imageUrl_2) )\n",
    "Images.append( Image_Encode(imageUrl_3) )\n",
    "Images.append( Image_Encode(imageUrl_4) )\n",
    "\n",
    "Title = \"Samsung Galaxy Z Fold 4 - Samsung Care - With Stylus - Unlocked\"\n",
    "\n",
    "Text = \\\n",
    "\"COMES WITH ORIGINAL SAMSUNG CASE WITH STYLUS\\n\\\n",
    "Very good Condition bar some usual wear and tear marks on the screen. The rest of the phone is very clean and in excellent condition.\\n\\\n",
    "It comes with Samsung Care for another year; I'm not sure if it's transferable to the new owner. You'll need to verify yourself. however, it's a genuine sale for a genuine phone.\\n\\\n",
    "It will be reset to factory settings, and you can insert your SIM—this costs over $2,000 when new with Samsung Care.\\n\\\n",
    "Grab a Bargain\\n\\\n",
    "Cash on Collection only\\n\\\n",
    "Price is Firm - No Low Ballers as they will be ignored.\"\n",
    "\n",
    "Price = \"995\""
   ]
  },
  {
   "cell_type": "code",
   "execution_count": 17,
   "metadata": {},
   "outputs": [
    {
     "name": "stdout",
     "output_type": "stream",
     "text": [
      "<Response [200]>\n"
     ]
    }
   ],
   "source": [
    "import requests\n",
    "url = 'http://localhost:8080/new-post'\n",
    "body = {\n",
    "            'PostOwner': '1030920919@qq.com',\n",
    "            'Title': Title,\n",
    "            'Text': Text,\n",
    "            'Auction': False,\n",
    "            'LostFound': False,\n",
    "            'Price': Price,\n",
    "            'Fields': [],\n",
    "            'Images': Images\n",
    "           }\n",
    "r = requests.post(url, json=body)\n",
    "print(r)"
   ]
  }
 ],
 "metadata": {
  "kernelspec": {
   "display_name": "ECE_651",
   "language": "python",
   "name": "python3"
  },
  "language_info": {
   "codemirror_mode": {
    "name": "ipython",
    "version": 3
   },
   "file_extension": ".py",
   "mimetype": "text/x-python",
   "name": "python",
   "nbconvert_exporter": "python",
   "pygments_lexer": "ipython3",
   "version": "3.11.3"
  }
 },
 "nbformat": 4,
 "nbformat_minor": 2
}
