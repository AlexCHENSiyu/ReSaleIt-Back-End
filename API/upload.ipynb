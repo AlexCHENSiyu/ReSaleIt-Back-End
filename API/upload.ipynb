{
 "cells": [
  {
   "cell_type": "code",
   "execution_count": 127,
   "metadata": {},
   "outputs": [],
   "source": [
    "from flask import Flask, request, Blueprint\n",
    "import pymongo\n",
    "import numpy as np\n",
    "import json\n",
    "from bson import ObjectId\n",
    "import base64\n",
    "from pymongo.database import Database \n",
    "from pyisemail import is_email\n",
    "import smtplib\n",
    "from email.mime.text import MIMEText\n",
    "from email.utils import formataddr\n",
    "from random import randint\n",
    "from operator import itemgetter\n",
    "from collections import Counter\n",
    "import matplotlib.pyplot as plt\n",
    "from io import BytesIO\n",
    "import os\n",
    "from PIL import Image"
   ]
  },
  {
   "cell_type": "code",
   "execution_count": 128,
   "metadata": {},
   "outputs": [
    {
     "name": "stdout",
     "output_type": "stream",
     "text": [
      "数据库当前的databases:  ['admin', 'chen_db', 'config', 'local']\n",
      "获取/创建库： chen_db\n"
     ]
    }
   ],
   "source": [
    "def mongodb_init():\n",
    "    # connect to mongodb\n",
    "    mongo = pymongo.MongoClient(host='18.162.214.19', port=27017, username=\"root\", password=\"1647#4hkust\",\n",
    "                                authSource='admin')\n",
    "    print('数据库当前的databases: ', mongo.list_database_names())\n",
    "    return mongo\n",
    "\n",
    "\n",
    "def get_db(mongo, db_name):\n",
    "    db = Database(name=db_name, client=mongo)\n",
    "    print('获取/创建库：', db.name)\n",
    "    return db\n",
    "\n",
    "\n",
    "\n",
    "# API below\n",
    "app = Flask(__name__)\n",
    "mongo = mongodb_init()\n",
    "db = get_db(mongo, 'chen_db')"
   ]
  },
  {
   "cell_type": "code",
   "execution_count": 129,
   "metadata": {},
   "outputs": [],
   "source": [
    "def compress_image(infile, outfile='', mb=30, step=15, quality=60):\n",
    "    \"\"\"\n",
    "    不改变图片尺寸压缩到指定大小\n",
    "    :param infile: 压缩源文件\n",
    "    :param outfile: 压缩文件保存地址\n",
    "    :param mb: 压缩比率\n",
    "    :param step: 每次调整的压缩比率\n",
    "    :param quality: 初始压缩比率\n",
    "    :return: 压缩文件地址，压缩文件大小\n",
    "    \"\"\"\n",
    "    o_size = os.path.getsize(infile) / 1024\n",
    "    print(f\"original size: {o_size:.2f} KB\")\n",
    "    if o_size <= 5:\n",
    "        return infile\n",
    "    outfile = get_outfile(infile, outfile)\n",
    "    \n",
    "    while o_size > o_size * mb/100:\n",
    "        im = Image.open(infile)\n",
    "        im.save(outfile, quality=quality)\n",
    "        if quality - step < 0:\n",
    "            break\n",
    "        quality -= step\n",
    "        o_size = os.path.getsize(outfile) / 1024\n",
    "        \n",
    "    return outfile, o_size\n",
    "\n",
    "def get_outfile(infile, outfile):\n",
    "    if outfile:\n",
    "        return outfile\n",
    "    dir, suffix = os.path.splitext(infile)\n",
    "    outfile = '{}-out{}'.format(dir, suffix)\n",
    "    return outfile"
   ]
  },
  {
   "cell_type": "code",
   "execution_count": 130,
   "metadata": {},
   "outputs": [],
   "source": [
    "def Image_Encode(image_URL):\n",
    "    # 压缩图片\n",
    "    compressed_image, compressed_size = compress_image(infile = image_URL)\n",
    "    # 读取本地图片文件\n",
    "    print(f\"Size after compress: {compressed_size:.2f} KB\")\n",
    "    \n",
    "    with open(compressed_image, 'rb') as input:\n",
    "        image_data = input.read()  # 图片的二进制数据\n",
    "\n",
    "    # 将二进制图片编码为 base64 格式\n",
    "    base64_data_bytes = base64.b64encode(image_data)  # 图片的 bytes 类型\n",
    "    base64_data_str = base64_data_bytes.decode()  # 图片的字符串类型\\\n",
    "    return base64_data_str"
   ]
  },
  {
   "cell_type": "code",
   "execution_count": 131,
   "metadata": {},
   "outputs": [],
   "source": [
    "def Image_show(image_URL):\n",
    "    with open(image_URL, 'rb') as input:\n",
    "        image_data = input.read()  # 图片的二进制数据\n",
    "    # 展示图片\n",
    "    img_data = plt.imread(BytesIO(image_data), format=\"JPG\")\n",
    "    import cv2\n",
    "    img_cv2 = cv2.cvtColor(img_data, cv2.COLOR_RGB2BGR)\n",
    "    cv2.imshow('Image', img_cv2)\n",
    "    cv2.waitKey(0)\n",
    "    cv2.destroyAllWindows()"
   ]
  },
  {
   "cell_type": "code",
   "execution_count": 132,
   "metadata": {},
   "outputs": [
    {
     "name": "stdout",
     "output_type": "stream",
     "text": [
      "original size: 18.60 KB\n",
      "Size after compress: 8.02 KB\n",
      "original size: 24.92 KB\n",
      "Size after compress: 10.84 KB\n",
      "original size: 16.71 KB\n",
      "Size after compress: 6.42 KB\n"
     ]
    }
   ],
   "source": [
    "# set the image directories\n",
    "imageUrl_1 = '../image/' + '1.webp'\n",
    "imageUrl_2 = '../image/' + '2.webp'\n",
    "imageUrl_3 = '../image/' + '3.webp'\n",
    "imageUrl_4 = '../image/' + '4.webp'\n",
    "Images = []\n",
    "Images.append( Image_Encode(imageUrl_1) )\n",
    "Images.append( Image_Encode(imageUrl_2) )\n",
    "Images.append( Image_Encode(imageUrl_3) )\n",
    "# Images.append( Image_Encode(imageUrl_4) )\n",
    "\n",
    "# set parameters\n",
    "Title = \"Bmx bicycle.\"\n",
    "\n",
    "Text = \\\n",
    "\"\"\"\n",
    "Selling a movelo bmx bicycle for kids. Good condition. 18x2.25 tires.\n",
    "\"\"\"\n",
    "\n",
    "Price = \"80\""
   ]
  },
  {
   "cell_type": "code",
   "execution_count": 133,
   "metadata": {},
   "outputs": [],
   "source": [
    "imageUrl_checks = '../image/' + '1-out.webp'\n",
    "# Image_show(imageUrl_1)\n",
    "# Image_show(imageUrl_checks)"
   ]
  },
  {
   "cell_type": "code",
   "execution_count": null,
   "metadata": {},
   "outputs": [],
   "source": []
  },
  {
   "cell_type": "code",
   "execution_count": 137,
   "metadata": {},
   "outputs": [
    {
     "name": "stdout",
     "output_type": "stream",
     "text": [
      "{\n",
      "  \"Success\": true\n",
      "}\n",
      "\n"
     ]
    }
   ],
   "source": [
    "import requests\n",
    "url = 'http://localhost:8080/new-post'\n",
    "body = {\n",
    "            'PostOwner': '1030920919@qq.com',\n",
    "            'Title': Title,\n",
    "            'Text': Text,\n",
    "            'Auction': False,\n",
    "            'LostFound': False,\n",
    "            'Price': Price,\n",
    "            'Fields': [],\n",
    "            'Images': Images\n",
    "           }\n",
    "r = requests.post(url, json=body)\n",
    "print(r.text)"
   ]
  }
 ],
 "metadata": {
  "kernelspec": {
   "display_name": "ECE_651",
   "language": "python",
   "name": "python3"
  },
  "language_info": {
   "codemirror_mode": {
    "name": "ipython",
    "version": 3
   },
   "file_extension": ".py",
   "mimetype": "text/x-python",
   "name": "python",
   "nbconvert_exporter": "python",
   "pygments_lexer": "ipython3",
   "version": "3.11.3"
  }
 },
 "nbformat": 4,
 "nbformat_minor": 2
}
